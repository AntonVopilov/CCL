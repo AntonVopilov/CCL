{
 "cells": [
  {
   "cell_type": "markdown",
   "metadata": {},
   "source": [
    "# GGL: Compare CCL against GGL correlation benchmark"
   ]
  },
  {
   "cell_type": "code",
   "execution_count": 2,
   "metadata": {},
   "outputs": [],
   "source": [
    "import numpy as np\n",
    "import pylab as plt\n",
    "import pyccl as ccl\n",
    "from scipy.interpolate import interp1d\n",
    "\n",
    "import matplotlib\n",
    "\n",
    "%matplotlib inline"
   ]
  },
  {
   "cell_type": "markdown",
   "metadata": {},
   "source": [
    "Set up font sizes, etc."
   ]
  },
  {
   "cell_type": "code",
   "execution_count": 3,
   "metadata": {},
   "outputs": [],
   "source": [
    "font_config = {\"size\" : 10,\n",
    "               \"family\" : \"serif\"}\n",
    "\n",
    "matplotlib.rc(\"font\", **font_config)\n",
    "matplotlib.rc(\"text\", usetex=True)\n",
    "# Move title to make space for exponents of y axis\n",
    "matplotlib.rc(\"axes\", titlepad=5) \n",
    "matplotlib.rc(\"axes\", titlesize=\"medium\") \n",
    "\n",
    "# Make the figures bigger in the notebook\n",
    "matplotlib.rc(\"figure\", dpi=150)\n",
    "\n",
    "color_map = plt.get_cmap(\"tab10\")\n",
    "\n",
    "paper_textwidth = 7.125\n",
    "fig_size = (paper_textwidth/2, 2.6)\n",
    "\n",
    "plot_adjust = dict(left=0.2, top=0.9, bottom=0.2)"
   ]
  },
  {
   "cell_type": "markdown",
   "metadata": {},
   "source": [
    "## Benchmark cosmology"
   ]
  },
  {
   "cell_type": "code",
   "execution_count": 4,
   "metadata": {},
   "outputs": [],
   "source": [
    "cosmo_ccl7 = ccl.Cosmology(\n",
    "    Omega_c=0.3, Omega_b=0.0, h=0.7, sigma8 = 0.8, n_s=0.96, Neff=0,\n",
    "    transfer_function='bbks', matter_power_spectrum='linear', Omega_g=0)\n",
    "\n",
    "cosmo_list = [\n",
    "    cosmo_ccl7]"
   ]
  },
  {
   "cell_type": "markdown",
   "metadata": {},
   "source": [
    "## Redshift histograms\n",
    "One of the figures of the paper shows the redshift distributions of two redshift histograms used in the computation of different quantities for the validation of `CCL`. Here are those two redshift distributions:"
   ]
  },
  {
   "cell_type": "code",
   "execution_count": 5,
   "metadata": {},
   "outputs": [
    {
     "data": {
      "image/png": "[encoded data removed]",
      "text/plain": [
       "<Figure size 534.375x390 with 1 Axes>"
      ]
     },
     "metadata": {
      "needs_background": "light"
     },
     "output_type": "display_data"
    },
    {
     "data": {
      "text/plain": [
       "<Figure size 900x600 with 0 Axes>"
      ]
     },
     "metadata": {},
     "output_type": "display_data"
    }
   ],
   "source": [
    "bin_histo1=np.loadtxt('../tests/benchmark/codecomp_step2_outputs/bin1_histo.txt')\n",
    "bin_histo2=np.loadtxt('../tests/benchmark/codecomp_step2_outputs/bin2_histo.txt')\n",
    "plt.figure(figsize=fig_size);\n",
    "plt.gcf().subplots_adjust(**plot_adjust)\n",
    "plt.ylabel(r'${\\rm d}N/{\\rm d}z$');\n",
    "plt.xlabel('Redshift');\n",
    "plt.plot(bin_histo1[:,0],bin_histo1[:,1])\n",
    "plt.plot(bin_histo2[:,0],bin_histo2[:,1])\n",
    "plt.savefig('dNdz_codecomp.pdf');\n",
    "plt.show();\n",
    "plt.clf();"
   ]
  },
  {
   "cell_type": "markdown",
   "metadata": {},
   "source": [
    "## GGL angular power spectra"
   ]
  },
  {
   "cell_type": "markdown",
   "metadata": {},
   "source": [
    "In what follows, we test the accuracy of the angular power spectra predicted by CCL. "
   ]
  },
  {
   "cell_type": "code",
   "execution_count": 6,
   "metadata": {},
   "outputs": [],
   "source": [
    "accuracy = 1e-3\n",
    "\n",
    "#Redshift distribution\n",
    "zmean1=1.0; zmean2=1.5;\n",
    "sigz1=0.15; sigz2=0.15;\n",
    "nzs=512;\n",
    "\n",
    "#Analytic redshift distributions\n",
    "z_a_1=np.linspace(zmean1-5*sigz1,zmean1+5*sigz1,nzs);\n",
    "z_a_2=np.linspace(zmean2-5*sigz2,zmean2+5*sigz2,nzs);\n",
    "pz_a_1=np.exp(-0.5*((z_a_1-zmean1)/sigz1)**2)\n",
    "pz_a_2=np.exp(-0.5*((z_a_2-zmean2)/sigz2)**2)\n",
    "#Bias parameters for these distributions\n",
    "bz_a_1=np.ones_like(z_a_1); bz_a_2=np.ones_like(z_a_2);\n",
    "\n",
    "#Binned redshift distributions and biases\n",
    "z_h_1,pz_h_1=np.loadtxt(\"../tests/benchmark/codecomp_step2_outputs/bin1_histo.txt\",unpack=True)\n",
    "z_h_2,pz_h_2=np.loadtxt(\"../tests/benchmark/codecomp_step2_outputs/bin2_histo.txt\",unpack=True)\n",
    "bz_h_1=np.ones_like(z_h_1); bz_h_2=np.ones_like(z_h_2);\n",
    "\n",
    "zarrs={'analytic':{'b1':{'z':z_a_1,'nz':pz_a_1,'bz':bz_a_1},'b2':{'z':z_a_2,'nz':pz_a_2,'bz':bz_a_2}},\n",
    "      'histo':{'b1':{'z':z_h_1,'nz':pz_h_1,'bz':bz_h_1},'b2':{'z':z_h_2,'nz':pz_h_2,'bz':bz_h_2}}}\n",
    "\n",
    "#Initialize tracers\n",
    "cosmo_cls=cosmo_list[0]\n",
    "cl_ccl={}\n",
    "ells=np.arange(0,3001)\n",
    "cfac=np.ones(3001)\n",
    "for nztyp in ['analytic','histo'] :\n",
    "    cl_ccl[nztyp]={}\n",
    "    za=zarrs[nztyp]\n",
    "    trcrNC=ccl.NumberCountsTracer(cosmo_cls,has_rsd=False,\n",
    "                                    dndz=(za['b1']['z'],za['b1']['nz']),\n",
    "                                    bias=(za['b1']['z'],za['b1']['bz']))\n",
    "    trcrWL=ccl.WeakLensingTracer(cosmo_cls, dndz=(za['b2']['z'],za['b2']['nz']))\n",
    "    #Compute ccl predictions\n",
    "    cfac[2:]=(ells[2:]+0.5)*(ells[2:]+0.5)/np.sqrt((ells[2:]+2.)*(ells[2:]+1.)*ells[2:]*(ells[2:]-1.))\n",
    "    cl_ccl[nztyp]=ccl.angular_cl(cosmo_cls,trcrNC,trcrWL,ells)*cfac\n",
    "\n"
   ]
  },
  {
   "cell_type": "markdown",
   "metadata": {},
   "source": [
    "## GGL correlation function"
   ]
  },
  {
   "cell_type": "code",
   "execution_count": 7,
   "metadata": {},
   "outputs": [],
   "source": [
    "import scipy\n",
    "\n",
    "#Read benchmarks and expected LSST error bars\n",
    "bench_err=np.loadtxt(\"../tests/benchmark/cov_corr/sigma_ggl_Nbin5\")\n",
    "sig_wt_spline=scipy.interpolate.interp1d(bench_err[:,0]/60.,bench_err[:,1])\n",
    "\n",
    "corr_bench={}\n",
    "for nztyp in ['analytic'] :\n",
    "    corr_bench[nztyp]={}\n",
    "    corr_bench[nztyp]=np.genfromtxt(\"../tests/benchmark/run_b1b2\"+nztyp+\"_log_wt_dl.txt\",names=('theta','xi'))\n",
    "    \n",
    "theta_deg=corr_bench[nztyp]['theta']"
   ]
  },
  {
   "cell_type": "code",
   "execution_count": 8,
   "metadata": {},
   "outputs": [],
   "source": [
    "#Assume that c_ell are computed above in the Angular_cl benchmark\n",
    "#If you haven't run that cell, please scroll up to run it.\n",
    "#Then proceed to compute the relavent correlation functions: clustering and lensing auto-correlations.\n",
    "corr_fftlog={}\n",
    "corr_bessel={}\n",
    "for nztyp in ['analytic'] :\n",
    "    za=zarrs[nztyp]\n",
    "    corr_fftlog[nztyp]={}\n",
    "    corr_fftlog[nztyp]=ccl.correlation(cosmo_cls, ells, cl_ccl[nztyp], theta_deg,corr_type='GL', method='FFTLog')\n",
    "    corr_bessel[nztyp]={}\n",
    "    corr_bessel[nztyp]=ccl.correlation(cosmo_cls, ells, cl_ccl[nztyp], theta_deg,corr_type='GL', method='Bessel')"
   ]
  },
  {
   "cell_type": "code",
   "execution_count": 10,
   "metadata": {},
   "outputs": [
    {
     "data": {
      "image/png": "[encoded data removed]",
      "text/plain": [
       "<Figure size 534.375x390 with 1 Axes>"
      ]
     },
     "metadata": {
      "needs_background": "light"
     },
     "output_type": "display_data"
    },
    {
     "data": {
      "text/plain": [
       "<Figure size 900x600 with 0 Axes>"
      ]
     },
     "metadata": {},
     "output_type": "display_data"
    }
   ],
   "source": [
    "accuracy = 1\n",
    "\n",
    "for nztyp in ['analytic'] :\n",
    "    plt.figure(figsize=fig_size)\n",
    "    plt.plot(theta_deg[1:],np.abs(corr_bench[nztyp]['xi'][1:]-corr_fftlog[nztyp][1:])/(0.5*sig_wt_spline(theta_deg[1:])),\"o-\",c=color_map(0), ms=5,label='FFTLog')\n",
    "    #plt.plot(theta_deg[1:],np.abs(corr_bench[nztyp]['xi'][1:]-corr_bessel[nztyp][1:])/(0.5*sig_wt_spline(theta_deg[1:])),\"o-\",c=color_map(1), ms=5,label='Brute-force')\n",
    "    plt.xscale('log')\n",
    "    plt.yscale('log')\n",
    "    plt.axhline(accuracy, c=\"k\", ls=\"--\")\n",
    "    plt.xlabel(r'$\\theta$ (degrees)')\n",
    "    plt.ylabel(r'$|\\Delta \\xi_{ggl}|/0.5\\sigma_{\\rm LSST}$')\n",
    "    plt.title(r'Analytic $N(z)$, $1-2$')\n",
    "    plt.gcf().subplots_adjust(**plot_adjust)\n",
    "    plt.savefig('projected_xiggl_error_comparison_'+nztyp+'.pdf')\n",
    "    plt.show()\n",
    "    plt.clf()"
   ]
  }
 ],
 "metadata": {
  "kernelspec": {
   "display_name": "Python 3",
   "language": "python",
   "name": "python3"
  },
  "language_info": {
   "codemirror_mode": {
    "name": "ipython",
    "version": 3
   },
   "file_extension": ".py",
   "mimetype": "text/x-python",
   "name": "python",
   "nbconvert_exporter": "python",
   "pygments_lexer": "ipython3",
   "version": "3.5.6"
  },
  "latex_envs": {
   "LaTeX_envs_menu_present": true,
   "autoclose": false,
   "autocomplete": true,
   "bibliofile": "biblio.bib",
   "cite_by": "apalike",
   "current_citInitial": 1,
   "eqLabelWithNumbers": true,
   "eqNumInitial": 1,
   "hotkeys": {
    "equation": "Ctrl-E",
    "itemize": "Ctrl-I"
   },
   "labels_anchors": false,
   "latex_user_defs": false,
   "report_style_numbering": false,
   "user_envs_cfg": false
  }
 },
 "nbformat": 4,
 "nbformat_minor": 2
}
